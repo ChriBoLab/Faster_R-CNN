{
 "cells": [
  {
   "cell_type": "markdown",
   "metadata": {},
   "source": [
    "https://github.com/rafaelpadilla/Object-Detection-Metrics\n",
    "\n",
    "Για να μπορέσουμε να τρέξουμε τον παραπάνω κωδικά θα πρέπει να δημιουργήσουμε δυο φακέλους.\n",
    "\n",
    "Με τον παρακάτω κώδικα θα δημιουργήσουμε τον φάκελο που περιέχει τα detection files. Ο φάκελος αυτός θα περιέχει για την κάθε εικόνα του test set ένα αρχείο txt το οποίο για όνομα θα έχει το όνομα της εικόνας και για περιεχόμενο θα έχει τις συντεταγμένες από τα αντικείμενα που προέβλεψε το μοντέλο στην εικόνα καθώς και το όνομα της κατηγορία στην οποία ανήκει και το ποσοστό βεβαιότητας.\n"
   ]
  },
  {
   "cell_type": "markdown",
   "metadata": {},
   "source": [
    "Για παράδειγμα αν για την εικόνα \"2008_000034.jpg\" το μοντέλο προέβλεψε  5 αντικείμενα το αρχείο txt που θα πρέπει να φτιάξουμε θα  ονομάζεται \"2008_000034.txt\"\n",
    "και θα περιέχει τις παρακάτω γραμμές:\n",
    "person 0.94981 1 156 103 336<br>\n",
    "person 0.84999 1 156 103 336<br>\n",
    "person 0.74984 1 156 103 336<br>\n",
    "cat 36 0.64985 111 198 416<br>\n",
    "dog 91 0.94981 42 338 500<br>"
   ]
  },
  {
   "cell_type": "code",
   "execution_count": 1,
   "metadata": {},
   "outputs": [],
   "source": [
    "from matplotlib import pyplot as plt\n",
    "import numpy as np\n",
    "import os\n",
    "import pandas as pd"
   ]
  },
  {
   "cell_type": "code",
   "execution_count": 2,
   "metadata": {},
   "outputs": [],
   "source": [
    "results_df = pd.read_csv(r\"C:\\Users\\Christos\\Jupyter\\Vision\\Ask4part3\\Final\\Code\\Outputs\\results.csv\")"
   ]
  },
  {
   "cell_type": "code",
   "execution_count": 3,
   "metadata": {},
   "outputs": [
    {
     "data": {
      "text/html": [
       "<div>\n",
       "<style scoped>\n",
       "    .dataframe tbody tr th:only-of-type {\n",
       "        vertical-align: middle;\n",
       "    }\n",
       "\n",
       "    .dataframe tbody tr th {\n",
       "        vertical-align: top;\n",
       "    }\n",
       "\n",
       "    .dataframe thead th {\n",
       "        text-align: right;\n",
       "    }\n",
       "</style>\n",
       "<table border=\"1\" class=\"dataframe\">\n",
       "  <thead>\n",
       "    <tr style=\"text-align: right;\">\n",
       "      <th></th>\n",
       "      <th>Unnamed: 0</th>\n",
       "      <th>FileName</th>\n",
       "      <th>XMin</th>\n",
       "      <th>XMax</th>\n",
       "      <th>YMin</th>\n",
       "      <th>YMax</th>\n",
       "      <th>ClassName</th>\n",
       "      <th>Prob</th>\n",
       "    </tr>\n",
       "  </thead>\n",
       "  <tbody>\n",
       "    <tr>\n",
       "      <td>1641</td>\n",
       "      <td>1641</td>\n",
       "      <td>fec284c3a0d5a346.jpg</td>\n",
       "      <td>122</td>\n",
       "      <td>245</td>\n",
       "      <td>307</td>\n",
       "      <td>389</td>\n",
       "      <td>Dog</td>\n",
       "      <td>0.944233</td>\n",
       "    </tr>\n",
       "    <tr>\n",
       "      <td>1642</td>\n",
       "      <td>1642</td>\n",
       "      <td>ff1196d7cac681dc.jpg</td>\n",
       "      <td>27</td>\n",
       "      <td>245</td>\n",
       "      <td>846</td>\n",
       "      <td>873</td>\n",
       "      <td>Cat</td>\n",
       "      <td>0.931075</td>\n",
       "    </tr>\n",
       "    <tr>\n",
       "      <td>1643</td>\n",
       "      <td>1643</td>\n",
       "      <td>ffb943a17cbbdcda.jpg</td>\n",
       "      <td>27</td>\n",
       "      <td>109</td>\n",
       "      <td>955</td>\n",
       "      <td>1010</td>\n",
       "      <td>Cat</td>\n",
       "      <td>0.857199</td>\n",
       "    </tr>\n",
       "    <tr>\n",
       "      <td>1644</td>\n",
       "      <td>1644</td>\n",
       "      <td>ffb943a17cbbdcda.jpg</td>\n",
       "      <td>0</td>\n",
       "      <td>0</td>\n",
       "      <td>81</td>\n",
       "      <td>709</td>\n",
       "      <td>Person</td>\n",
       "      <td>0.869339</td>\n",
       "    </tr>\n",
       "    <tr>\n",
       "      <td>1645</td>\n",
       "      <td>1645</td>\n",
       "      <td>ffb943a17cbbdcda.jpg</td>\n",
       "      <td>0</td>\n",
       "      <td>163</td>\n",
       "      <td>81</td>\n",
       "      <td>409</td>\n",
       "      <td>Person</td>\n",
       "      <td>0.832209</td>\n",
       "    </tr>\n",
       "  </tbody>\n",
       "</table>\n",
       "</div>"
      ],
      "text/plain": [
       "      Unnamed: 0              FileName  XMin  XMax  YMin  YMax ClassName  \\\n",
       "1641        1641  fec284c3a0d5a346.jpg   122   245   307   389       Dog   \n",
       "1642        1642  ff1196d7cac681dc.jpg    27   245   846   873       Cat   \n",
       "1643        1643  ffb943a17cbbdcda.jpg    27   109   955  1010       Cat   \n",
       "1644        1644  ffb943a17cbbdcda.jpg     0     0    81   709    Person   \n",
       "1645        1645  ffb943a17cbbdcda.jpg     0   163    81   409    Person   \n",
       "\n",
       "          Prob  \n",
       "1641  0.944233  \n",
       "1642  0.931075  \n",
       "1643  0.857199  \n",
       "1644  0.869339  \n",
       "1645  0.832209  "
      ]
     },
     "execution_count": 3,
     "metadata": {},
     "output_type": "execute_result"
    }
   ],
   "source": [
    "results_df.tail()"
   ]
  },
  {
   "cell_type": "markdown",
   "metadata": {},
   "source": [
    "get the length of the result images"
   ]
  },
  {
   "cell_type": "code",
   "execution_count": 4,
   "metadata": {},
   "outputs": [],
   "source": [
    "result_path = r\"C:\\Users\\Christos\\Google Drive\\ColabNotebooks\\Vision\\frcnn\\keras-frcnn\\results_imgs\"\n",
    "# find boxes in each image and put them in a dataframe\n",
    "result_imgs = os.listdir(result_path)\n",
    "result_imgs = [name for name in result_imgs if not name.startswith('.')]"
   ]
  },
  {
   "cell_type": "code",
   "execution_count": 5,
   "metadata": {},
   "outputs": [
    {
     "data": {
      "text/plain": [
       "600"
      ]
     },
     "execution_count": 5,
     "metadata": {},
     "output_type": "execute_result"
    }
   ],
   "source": [
    "result_imgs.__len__()"
   ]
  },
  {
   "cell_type": "code",
   "execution_count": 6,
   "metadata": {},
   "outputs": [],
   "source": [
    "os.getcwd()\n",
    "os.chdir(r\"C:\\Users\\Christos\\Jupyter\\Vision\\Ask4part3\\Final\\Code\\Outputs\")"
   ]
  },
  {
   "cell_type": "code",
   "execution_count": 7,
   "metadata": {},
   "outputs": [],
   "source": [
    "for i in range(len(result_imgs)):\n",
    "    \n",
    "    img_name = result_imgs[i]\n",
    "    img_id = img_name[0:16]\n",
    "    tmp_df = results_df[results_df['FileName']==img_name]    \n",
    "    if (not len(tmp_df.index) == 0):\n",
    "        with open(\"detections/{}.txt\".format(img_id), \"w+\") as f:\n",
    "            for index, row in tmp_df.iterrows():\n",
    "                f.write(row['ClassName'] + ' ' +str(row['Prob']) + ' ' +str(row['XMin']) + ' ' + str(row['XMax']) + ' ' + str(row['YMin']) + ' ' + str(row['YMax']) + '\\n')\n",
    "            f.close()\n"
   ]
  }
 ],
 "metadata": {
  "kernelspec": {
   "display_name": "Python 3",
   "language": "python",
   "name": "python3"
  },
  "language_info": {
   "codemirror_mode": {
    "name": "ipython",
    "version": 3
   },
   "file_extension": ".py",
   "mimetype": "text/x-python",
   "name": "python",
   "nbconvert_exporter": "python",
   "pygments_lexer": "ipython3",
   "version": "3.7.4"
  },
  "toc": {
   "base_numbering": 1,
   "nav_menu": {},
   "number_sections": true,
   "sideBar": true,
   "skip_h1_title": false,
   "title_cell": "Table of Contents",
   "title_sidebar": "Contents",
   "toc_cell": false,
   "toc_position": {},
   "toc_section_display": true,
   "toc_window_display": false
  }
 },
 "nbformat": 4,
 "nbformat_minor": 2
}
