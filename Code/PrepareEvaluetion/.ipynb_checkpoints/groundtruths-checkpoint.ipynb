{
 "cells": [
  {
   "cell_type": "markdown",
   "metadata": {},
   "source": [
    "https://github.com/rafaelpadilla/Object-Detection-Metrics\n",
    "\n",
    "Για να μπορέσουμε να τρέξουμε τον παραπάνω κώδικα θα πρέπει να δημιουργήσουμε δυο φακέλους.\n",
    "\n",
    "Με τον παρακάτω κωδικά θα δημιουργήσουμε τον φάκελο που περιέχει τα groundtruth files. Ο φάκελος αυτός θα περιέχει για την κάθε εικόνα του test set ένα αρχείο txt το οποίο για όνομα θα έχει το όνομα της εικόνας και για περιεχόμενο θα έχει τις συντεταγμένες από τα αντικείμενα που έχει η εικόνα καθώς και το όνομα της κατηγορία στην οποία ανήκει.\n"
   ]
  },
  {
   "cell_type": "markdown",
   "metadata": {},
   "source": [
    "Για παράδειγμα αν η εικόνα \"2008_000034.jpg\" περιέχει 3 αντικείμενα το αρχείο txt που θα πρέπει να φτιάξουμε θα  ονομάζεται \"2008_000034.txt\"\n",
    "και θα περιέχει τις παρακάτω γραμμές:\n",
    "person 1 156 103 336<br>\n",
    "cat 36 111 198 416<br>\n",
    "dog 91 42 338 500<br>"
   ]
  },
  {
   "cell_type": "code",
   "execution_count": 23,
   "metadata": {},
   "outputs": [],
   "source": [
    "from matplotlib import pyplot as plt\n",
    "import numpy as np\n",
    "import os\n",
    "import pandas as pd\n",
    "import cv2"
   ]
  },
  {
   "cell_type": "code",
   "execution_count": 24,
   "metadata": {},
   "outputs": [],
   "source": [
    "test_df = pd.read_csv(r\"C:\\Users\\Christos\\Jupyter\\Vision\\Ask4part3\\Final\\Code\\Outputs\\test.csv\")"
   ]
  },
  {
   "cell_type": "code",
   "execution_count": 25,
   "metadata": {},
   "outputs": [
    {
     "data": {
      "text/html": [
       "<div>\n",
       "<style scoped>\n",
       "    .dataframe tbody tr th:only-of-type {\n",
       "        vertical-align: middle;\n",
       "    }\n",
       "\n",
       "    .dataframe tbody tr th {\n",
       "        vertical-align: top;\n",
       "    }\n",
       "\n",
       "    .dataframe thead th {\n",
       "        text-align: right;\n",
       "    }\n",
       "</style>\n",
       "<table border=\"1\" class=\"dataframe\">\n",
       "  <thead>\n",
       "    <tr style=\"text-align: right;\">\n",
       "      <th></th>\n",
       "      <th>Unnamed: 0</th>\n",
       "      <th>FileName</th>\n",
       "      <th>XMin</th>\n",
       "      <th>XMax</th>\n",
       "      <th>YMin</th>\n",
       "      <th>YMax</th>\n",
       "      <th>ClassName</th>\n",
       "    </tr>\n",
       "  </thead>\n",
       "  <tbody>\n",
       "    <tr>\n",
       "      <td>1364</td>\n",
       "      <td>1364</td>\n",
       "      <td>fe08ce283ed9fe00.jpg</td>\n",
       "      <td>0.827500</td>\n",
       "      <td>0.911875</td>\n",
       "      <td>0.510934</td>\n",
       "      <td>0.592445</td>\n",
       "      <td>Cat</td>\n",
       "    </tr>\n",
       "    <tr>\n",
       "      <td>1365</td>\n",
       "      <td>1365</td>\n",
       "      <td>fe952e7df9c5d743.jpg</td>\n",
       "      <td>0.458333</td>\n",
       "      <td>0.622500</td>\n",
       "      <td>0.315000</td>\n",
       "      <td>0.458125</td>\n",
       "      <td>Cat</td>\n",
       "    </tr>\n",
       "    <tr>\n",
       "      <td>1366</td>\n",
       "      <td>1366</td>\n",
       "      <td>fec284c3a0d5a346.jpg</td>\n",
       "      <td>0.186667</td>\n",
       "      <td>0.392500</td>\n",
       "      <td>0.202500</td>\n",
       "      <td>0.389375</td>\n",
       "      <td>Person</td>\n",
       "    </tr>\n",
       "    <tr>\n",
       "      <td>1367</td>\n",
       "      <td>1367</td>\n",
       "      <td>ff1196d7cac681dc.jpg</td>\n",
       "      <td>0.176471</td>\n",
       "      <td>0.915033</td>\n",
       "      <td>0.236928</td>\n",
       "      <td>0.633987</td>\n",
       "      <td>Dog</td>\n",
       "    </tr>\n",
       "    <tr>\n",
       "      <td>1368</td>\n",
       "      <td>1368</td>\n",
       "      <td>ffb943a17cbbdcda.jpg</td>\n",
       "      <td>0.000000</td>\n",
       "      <td>0.990196</td>\n",
       "      <td>0.150327</td>\n",
       "      <td>0.838235</td>\n",
       "      <td>Cat</td>\n",
       "    </tr>\n",
       "  </tbody>\n",
       "</table>\n",
       "</div>"
      ],
      "text/plain": [
       "      Unnamed: 0              FileName      XMin      XMax      YMin  \\\n",
       "1364        1364  fe08ce283ed9fe00.jpg  0.827500  0.911875  0.510934   \n",
       "1365        1365  fe952e7df9c5d743.jpg  0.458333  0.622500  0.315000   \n",
       "1366        1366  fec284c3a0d5a346.jpg  0.186667  0.392500  0.202500   \n",
       "1367        1367  ff1196d7cac681dc.jpg  0.176471  0.915033  0.236928   \n",
       "1368        1368  ffb943a17cbbdcda.jpg  0.000000  0.990196  0.150327   \n",
       "\n",
       "          YMax ClassName  \n",
       "1364  0.592445       Cat  \n",
       "1365  0.458125       Cat  \n",
       "1366  0.389375    Person  \n",
       "1367  0.633987       Dog  \n",
       "1368  0.838235       Cat  "
      ]
     },
     "execution_count": 25,
     "metadata": {},
     "output_type": "execute_result"
    }
   ],
   "source": [
    "test_df.tail()"
   ]
  },
  {
   "cell_type": "markdown",
   "metadata": {},
   "source": [
    "get the length of the result images"
   ]
  },
  {
   "cell_type": "code",
   "execution_count": 31,
   "metadata": {},
   "outputs": [],
   "source": [
    "test_path = r\"C:\\Users\\Christos\\Google Drive\\ColabNotebooks\\Vision\\frcnn\\keras-frcnn\\test\"\n",
    "# find boxes in each image and put them in a dataframe\n",
    "test_imgs = os.listdir(test_path)\n",
    "test_imgs = [name for name in test_imgs if not name.startswith('.')]"
   ]
  },
  {
   "cell_type": "code",
   "execution_count": 32,
   "metadata": {},
   "outputs": [
    {
     "data": {
      "text/plain": [
       "600"
      ]
     },
     "execution_count": 32,
     "metadata": {},
     "output_type": "execute_result"
    }
   ],
   "source": [
    "test_imgs.__len__()"
   ]
  },
  {
   "cell_type": "code",
   "execution_count": 33,
   "metadata": {},
   "outputs": [],
   "source": [
    "os.getcwd()\n",
    "os.chdir(r\"C:\\Users\\Christos\\Jupyter\\Vision\\Ask4part3\\Final\\Code\\Outputs\")"
   ]
  },
  {
   "cell_type": "code",
   "execution_count": 36,
   "metadata": {},
   "outputs": [],
   "source": [
    "for i in range(len(test_imgs)):\n",
    "    \n",
    "    \n",
    "    img_name = test_imgs[i]\n",
    "    img_id = img_name[0:16]\n",
    "    tmp_df = test_df[test_df['FileName']==img_name]   \n",
    "    \n",
    "    img = cv2.imread(test_path + \"\\\\\" + img_name)\n",
    "    height, width = img.shape[:2]\n",
    "    x1 = int(row['XMin'] * width)\n",
    "    x2 = int(row['XMax'] * width)\n",
    "    y1 = int(row['YMin'] * height)\n",
    "    y2 = int(row['YMax'] * height)\n",
    "    \n",
    "    with open(\"groundtruths/{}.txt\".format(img_id), \"w+\") as f:\n",
    "         for index, row in tmp_df.iterrows():\n",
    "                \n",
    "                f.write(row['ClassName'] + ' ' +str(x1) + ' ' + str(y1) + ' ' + str(x2) + ' ' + str(y2) + '\\n')\n",
    "         f.close()"
   ]
  }
 ],
 "metadata": {
  "kernelspec": {
   "display_name": "Python 3",
   "language": "python",
   "name": "python3"
  },
  "language_info": {
   "codemirror_mode": {
    "name": "ipython",
    "version": 3
   },
   "file_extension": ".py",
   "mimetype": "text/x-python",
   "name": "python",
   "nbconvert_exporter": "python",
   "pygments_lexer": "ipython3",
   "version": "3.7.4"
  },
  "toc": {
   "base_numbering": 1,
   "nav_menu": {},
   "number_sections": true,
   "sideBar": true,
   "skip_h1_title": false,
   "title_cell": "Table of Contents",
   "title_sidebar": "Contents",
   "toc_cell": false,
   "toc_position": {},
   "toc_section_display": true,
   "toc_window_display": false
  }
 },
 "nbformat": 4,
 "nbformat_minor": 2
}
